{
  "nbformat": 4,
  "nbformat_minor": 0,
  "metadata": {
    "colab": {
      "name": "train_autoencoder.ipynb",
      "provenance": [],
      "collapsed_sections": [],
      "authorship_tag": "ABX9TyM/lSVOI8q2qH6LbCfabhaV",
      "include_colab_link": true
    },
    "kernelspec": {
      "name": "python3",
      "display_name": "Python 3"
    },
    "accelerator": "GPU"
  },
  "cells": [
    {
      "cell_type": "markdown",
      "metadata": {
        "id": "view-in-github",
        "colab_type": "text"
      },
      "source": [
        "<a href=\"https://colab.research.google.com/github/deeyeet/phantom_dimensionality_reduction/blob/main/train_autoencoder.ipynb\" target=\"_parent\"><img src=\"https://colab.research.google.com/assets/colab-badge.svg\" alt=\"Open In Colab\"/></a>"
      ]
    },
    {
      "cell_type": "code",
      "metadata": {
        "id": "HJ4F3qRgsRU-",
        "outputId": "2394f6d8-29aa-4df5-81c4-a82f29c188c3",
        "colab": {
          "base_uri": "https://localhost:8080/",
          "height": 35
        }
      },
      "source": [
        "from google.colab import drive # connect to Google drive to access files\n",
        "drive.mount('/content/gdrive')\n",
        "\n",
        "import scipy.io as sio\n",
        "import numpy as np\n",
        "import torch\n",
        "import torchvision\n",
        "import torch.nn as nn\n",
        "import matplotlib\n",
        "import matplotlib.pyplot as plt\n",
        "import torchvision.transforms as transforms\n",
        "import torch.nn.functional as F\n",
        "import torch.optim as optim\n",
        "import time\n",
        "import matplotlib.pyplot as plt\n",
        "import matplotlib.image as mpimg\n",
        "\n",
        "from tqdm import tqdm\n",
        "from torchvision import datasets\n",
        "from torch.utils.data import Dataset, DataLoader\n",
        "from torchvision.utils import save_image\n"
      ],
      "execution_count": 384,
      "outputs": [
        {
          "output_type": "stream",
          "text": [
            "Drive already mounted at /content/gdrive; to attempt to forcibly remount, call drive.mount(\"/content/gdrive\", force_remount=True).\n"
          ],
          "name": "stdout"
        }
      ]
    },
    {
      "cell_type": "code",
      "metadata": {
        "id": "Wb5WRPTqxfRl",
        "outputId": "b6c4c140-43b9-455e-dcc4-607736ee8e1e",
        "colab": {
          "base_uri": "https://localhost:8080/",
          "height": 35
        }
      },
      "source": [
        "phantom_imgs = sio.loadmat('/content/gdrive/My Drive/matlab_code/imageVectors.mat')\n",
        "print(sorted(phantom_imgs.keys()))\n",
        "\n",
        "G = phantom_imgs['G']\n",
        "GTest = phantom_imgs['GTest']\n",
        "g = phantom_imgs['g']\n",
        "mSize = phantom_imgs['mSize'][0][0]\n",
        "nx = phantom_imgs['nx'][0][0]\n",
        "ny = phantom_imgs['ny'][0][0]\n",
        "x_train = np.transpose(phantom_imgs['x']) # 30 x 4096, one image per row\n",
        "x_test = np.transpose(phantom_imgs['xTest']) # 1 x 4096, single image row\n",
        "\n",
        "\n",
        "N, D = x_train.shape\n"
      ],
      "execution_count": 385,
      "outputs": [
        {
          "output_type": "stream",
          "text": [
            "['G', 'GTest', 'Gb', '__globals__', '__header__', '__version__', 'g', 'mSize', 'nx', 'ny', 'x', 'xTest']\n"
          ],
          "name": "stdout"
        }
      ]
    },
    {
      "cell_type": "code",
      "metadata": {
        "id": "hOnDPEa-xEvK"
      },
      "source": [
        "class PhantomImagesDataset(Dataset):\n",
        "\n",
        "    def __init__(self, data, transform=None):\n",
        "        self.data = data\n",
        "        self.transform = transform\n",
        "\n",
        "    def __len__(self):\n",
        "        return self.data.shape[0]\n",
        "\n",
        "    def __getitem__(self, idx):\n",
        "        if torch.is_tensor(idx):\n",
        "            idx = idx.tolist()\n",
        "\n",
        "        image = self.data[idx]\n",
        "        sample = {'image': image}\n",
        "\n",
        "        if self.transform:\n",
        "            sample = self.transform(sample)\n",
        "\n",
        "        return sample"
      ],
      "execution_count": 386,
      "outputs": []
    },
    {
      "cell_type": "code",
      "metadata": {
        "id": "HyCFS-ah_PrG"
      },
      "source": [
        "\n",
        "\n",
        "class AE(nn.Module):\n",
        "    def __init__(self, input_shape, hidden_size):\n",
        "        super().__init__()\n",
        "        self.encoder = nn.Linear(in_features=input_shape, out_features=hidden_size)\n",
        "        self.decoder = nn.Linear(in_features=hidden_size, out_features=input_shape)\n",
        "\n",
        "    def forward(self, features):\n",
        "        activation = nn.LogSigmoid()\n",
        "        # encode the input to lower dimension\n",
        "        encoded_img = activation(self.encoder(features))\n",
        "\n",
        "        # decode the input to original dimension\n",
        "        decoded_img = activation(self.decoder(encoded_img))\n",
        "        return decoded_img\n"
      ],
      "execution_count": 387,
      "outputs": []
    },
    {
      "cell_type": "code",
      "metadata": {
        "id": "m2PUP9Q1jfWt"
      },
      "source": [
        "# Parameters\n",
        "epochs = 1000\n",
        "learning_rate = 1e-3\n",
        "batch_size = 30\n",
        "hidden_size = 100\n",
        "sparsity_prop = 0.05\n",
        "sparsity_reg = 1"
      ],
      "execution_count": 388,
      "outputs": []
    },
    {
      "cell_type": "code",
      "metadata": {
        "id": "LTOXXgEOjyKB",
        "outputId": "84fd201c-ee05-4d88-c26d-7090bc8aefda",
        "colab": {
          "base_uri": "https://localhost:8080/",
          "height": 53
        }
      },
      "source": [
        "# image transformations\n",
        "transform = transforms.Compose([\n",
        "    transforms.ToTensor(),\n",
        "])\n",
        "\n",
        "train_set = PhantomImagesDataset(x_train)\n",
        "\n",
        "test_set = PhantomImagesDataset(x_test)\n",
        "\n",
        "# trainloader\n",
        "trainloader = DataLoader(\n",
        "    train_set, \n",
        "    batch_size=batch_size,\n",
        "    shuffle=False\n",
        ")\n",
        "# testloader\n",
        "testloader = DataLoader(\n",
        "    test_set, \n",
        "    batch_size=1\n",
        ")\n",
        "\n",
        "'''\n",
        "for i, data in enumerate(trainloader):\n",
        "  print(data['image'].shape)\n",
        "  sample_train_img = data['image'][29].reshape((nx, ny))\n",
        "  sample_img_plot = plt.imshow(sample_train_img, cmap='gray')\n",
        "  break\n",
        "'''"
      ],
      "execution_count": 389,
      "outputs": [
        {
          "output_type": "execute_result",
          "data": {
            "application/vnd.google.colaboratory.intrinsic+json": {
              "type": "string"
            },
            "text/plain": [
              "\"\\nfor i, data in enumerate(trainloader):\\n  print(data['image'].shape)\\n  sample_train_img = data['image'][29].reshape((nx, ny))\\n  sample_img_plot = plt.imshow(sample_train_img, cmap='gray')\\n  break\\n\""
            ]
          },
          "metadata": {
            "tags": []
          },
          "execution_count": 389
        }
      ]
    },
    {
      "cell_type": "code",
      "metadata": {
        "id": "6QkoMdnYD8MH"
      },
      "source": [
        "#  use gpu if available\n",
        "device = torch.device(\"cuda\" if torch.cuda.is_available() else \"cpu\")\n",
        "\n",
        "# create a model from `AE` autoencoder class\n",
        "# load it to the specified device, either gpu or cpu\n",
        "# model = AE(input_shape=D, hidden_size=hidden_size).to(device)\n",
        "model = AE(input_shape=D, hidden_size=hidden_size).to(device)\n",
        "\n",
        "# create an optimizer object\n",
        "# SGD optimizer with learning rate 1e-3 and L2 regularization 1e-3\n",
        "optimizer = optim.Adam(model.parameters(), lr=1e-3, weight_decay=1e-3)\n",
        "\n",
        "# mean-squared error loss\n",
        "criterion = nn.MSELoss()\n",
        "\n",
        "# get the layers as a list\n",
        "model_children = list(model.children())"
      ],
      "execution_count": 390,
      "outputs": []
    },
    {
      "cell_type": "code",
      "metadata": {
        "id": "s4v24kUDv9QH"
      },
      "source": [
        "def kl_divergence(rho, rho_hat):\n",
        "    rho_hat = torch.mean(F.sigmoid(rho_hat), 1) # sigmoid because we need the probability distributions\n",
        "    rho = torch.tensor([rho] * len(rho_hat)).to(device)\n",
        "    return torch.sum(rho * torch.log(rho/rho_hat) + (1 - rho) * torch.log((1 - rho)/(1 - rho_hat)))\n",
        "    \n",
        "# define the sparse loss function\n",
        "def sparse_loss(rho, images):\n",
        "    values = images\n",
        "    loss = 0\n",
        "    for i in range(len(model_children)):\n",
        "        values = model_children[i](values)\n",
        "        loss += kl_divergence(rho, values)\n",
        "    return loss"
      ],
      "execution_count": 391,
      "outputs": []
    },
    {
      "cell_type": "code",
      "metadata": {
        "id": "hSTuUHLTwbYK"
      },
      "source": [
        "# define the training function\n",
        "def train(model, dataloader):\n",
        "    model.train()\n",
        "    running_loss = 0.0\n",
        "    counter = 0\n",
        "    for i, data in enumerate(dataloader):\n",
        "        counter += 1\n",
        "\n",
        "        # construct image\n",
        "        img = data['image']\n",
        "        img = img.to(device).float()\n",
        "\n",
        "        optimizer.zero_grad()\n",
        " \n",
        "        # execute AE model\n",
        "        outputs = model(img)\n",
        "\n",
        "        # calculate losses\n",
        "        mse_loss = criterion(outputs, img)\n",
        "        sparsity = sparse_loss(sparsity_prop, img)\n",
        "        loss = mse_loss + sparsity_reg * sparsity\n",
        "\n",
        "        loss.backward()\n",
        "        optimizer.step()\n",
        "        running_loss += loss.item()\n",
        "    \n",
        "    epoch_loss = running_loss / counter\n",
        "    # print(f\"Train Loss: {epoch_loss:.3f}\")\n",
        "    return epoch_loss"
      ],
      "execution_count": 392,
      "outputs": []
    },
    {
      "cell_type": "code",
      "metadata": {
        "id": "4ts0UFW1yPne"
      },
      "source": [
        "# define the test function\n",
        "def test(model, dataloader):\n",
        "    print('Validating')\n",
        "    model.eval()\n",
        "    running_loss = 0.0\n",
        "    counter = 0\n",
        "    with torch.no_grad():\n",
        "        for i, data in enumerate(dataloader):\n",
        "            counter += 1\n",
        "\n",
        "            # construct image\n",
        "            img = data['image']\n",
        "            img = img.to(device).float()\n",
        "\n",
        "            # execute AE model\n",
        "            outputs = model(img)\n",
        "\n",
        "            # calculate loss\n",
        "            loss = criterion(outputs, img)\n",
        "            running_loss += loss.item()\n",
        "            print(\"hi\")\n",
        "    epoch_loss = running_loss / counter\n",
        "    print(f\"Val Loss: {epoch_loss:.3f}\")   \n",
        "    return outputs, epoch_loss"
      ],
      "execution_count": 393,
      "outputs": []
    },
    {
      "cell_type": "code",
      "metadata": {
        "id": "7-K3uGtdynpJ",
        "outputId": "dfab0ce8-e50a-48c0-c270-730fde99c8f5",
        "colab": {
          "base_uri": "https://localhost:8080/",
          "height": 141
        }
      },
      "source": [
        "# train and validate the autoencoder neural network\n",
        "train_loss = []\n",
        "val_loss = []\n",
        "\n",
        "start = time.time()\n",
        "for epoch in range(epochs):\n",
        "    # print(f\"Epoch {epoch+1} of {epochs}\")\n",
        "    train_epoch_loss = train(model, trainloader)\n",
        "    train_loss.append(train_epoch_loss)\n",
        "end = time.time()\n",
        "print(f\"{(end-start)/60:.3} minutes\")\n",
        "\n",
        "# use test images\n",
        "reconstructed, test_loss = test(model, testloader)\n",
        "print(reconstructed.shape)\n"
      ],
      "execution_count": 394,
      "outputs": [
        {
          "output_type": "stream",
          "text": [
            "/usr/local/lib/python3.6/dist-packages/torch/nn/functional.py:1625: UserWarning: nn.functional.sigmoid is deprecated. Use torch.sigmoid instead.\n",
            "  warnings.warn(\"nn.functional.sigmoid is deprecated. Use torch.sigmoid instead.\")\n"
          ],
          "name": "stderr"
        },
        {
          "output_type": "stream",
          "text": [
            "0.0757 minutes\n",
            "Validating\n",
            "hi\n",
            "Val Loss: 3.688\n",
            "torch.Size([1, 4096])\n"
          ],
          "name": "stdout"
        }
      ]
    },
    {
      "cell_type": "code",
      "metadata": {
        "id": "SGvYrcIQB9vw",
        "outputId": "e39bbba0-0772-4fa3-91cd-f6eaab7e56c9",
        "colab": {
          "base_uri": "https://localhost:8080/",
          "height": 268
        }
      },
      "source": [
        "orig_img = x_test.reshape((nx, ny))\n",
        "orig_img_plot = plt.imshow(orig_img, cmap='gray')"
      ],
      "execution_count": 395,
      "outputs": [
        {
          "output_type": "display_data",
          "data": {
            "image/png": "[encoded data removed]",
            "text/plain": [
              "<Figure size 432x288 with 1 Axes>"
            ]
          },
          "metadata": {
            "tags": [],
            "needs_background": "light"
          }
        }
      ]
    },
    {
      "cell_type": "code",
      "metadata": {
        "id": "f6B9IjssB_Js",
        "outputId": "74a9e93a-e8bd-407d-9bcd-9c0702803b24",
        "colab": {
          "base_uri": "https://localhost:8080/",
          "height": 268
        }
      },
      "source": [
        "new_img = reconstructed.view(nx, ny).cpu().data\n",
        "new_img_plot = plt.imshow(new_img, cmap='gray')"
      ],
      "execution_count": 396,
      "outputs": [
        {
          "output_type": "display_data",
          "data": {
            "image/png": "[encoded data removed]",
            "text/plain": [
              "<Figure size 432x288 with 1 Axes>"
            ]
          },
          "metadata": {
            "tags": [],
            "needs_background": "light"
          }
        }
      ]
    }
  ]
}